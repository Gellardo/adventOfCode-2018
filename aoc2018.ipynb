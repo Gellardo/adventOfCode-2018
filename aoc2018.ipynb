{
 "cells": [
  {
   "cell_type": "markdown",
   "metadata": {},
   "source": [
    "# Advent of Code 2018\n",
    "We have to save christmas by solving 50 puzzles and going back in time.\n",
    "\n",
    "First I define some utility functions, e.g. to retrieve the input file for a given day using the sessioncookie stored in the file `cookie`."
   ]
  },
  {
   "cell_type": "code",
   "execution_count": 1,
   "metadata": {
    "scrolled": true
   },
   "outputs": [],
   "source": [
    "import requests\n",
    "import os\n",
    "def Input(day):\n",
    "    if not os.path.exists(f'day{day}.input'):\n",
    "        print(f'downloading input file for day {day}')\n",
    "        with open('cookie') as f:\n",
    "            cookie = f.read().strip()\n",
    "        resp = requests.get(f'https://adventofcode.com/2018/day/{day}/input',\n",
    "                            cookies={'session': cookie})\n",
    "        if resp.status_code == 200:\n",
    "            with open(f'day{day}.input', 'w') as f:\n",
    "                f.write(resp.text)\n",
    "        else:\n",
    "            print(f'Coockie might be expired: {res.status_code} {res.reason}')\n",
    "    with open(f'day{day}.input') as f:\n",
    "        # discard the last line, since it is empty\n",
    "        return f.read().split('\\n')[:-1]"
   ]
  },
  {
   "cell_type": "markdown",
   "metadata": {},
   "source": [
    "## Day 1\n",
    "We have a frequency-changing device, so first we look at the end-frequency after all changes in the file are applied to the start-frequency of 0. The second question is, which frequency is reached twice first, possibly having to loop the input multiple times"
   ]
  },
  {
   "cell_type": "code",
   "execution_count": 2,
   "metadata": {},
   "outputs": [
    {
     "data": {
      "text/plain": [
       "490"
      ]
     },
     "execution_count": 2,
     "metadata": {},
     "output_type": "execute_result"
    }
   ],
   "source": [
    "def end_frequency(input):\n",
    "    return sum([ int(l) for l in input])\n",
    "assert end_frequency(['+1']) == 1\n",
    "assert end_frequency([-1, 2,-2,5]) == 4\n",
    "end_frequency(Input(1))"
   ]
  },
  {
   "cell_type": "code",
   "execution_count": 3,
   "metadata": {},
   "outputs": [
    {
     "data": {
      "text/plain": [
       "70357"
      ]
     },
     "execution_count": 3,
     "metadata": {},
     "output_type": "execute_result"
    }
   ],
   "source": [
    "def find_duplicate_frequency(changes):\n",
    "    reached_frequencies = set([0])\n",
    "    current_frequency = 0\n",
    "    for i in range(10**100):\n",
    "        for l in changes:\n",
    "            current_frequency += int(l)\n",
    "            if current_frequency in reached_frequencies:\n",
    "                #print(f'iteration: {i}, {current_frequency}')\n",
    "                return current_frequency\n",
    "            reached_frequencies.add(current_frequency)\n",
    "assert find_duplicate_frequency([1,-1]) == 0\n",
    "assert find_duplicate_frequency([4, -2]) == 4\n",
    "find_duplicate_frequency(Input(1))"
   ]
  },
  {
   "cell_type": "markdown",
   "metadata": {},
   "source": [
    "## Day 2\n",
    "The special fabric for Santa's new suit has gone missing. After sneaking into the storageroom, I scan the boxes and obtain a list of boxids. First, I have to make sure, every box has been scanned by computing the checksum over all boxids by multiplying the number of ids containing the same character 2 and 3 times respectively."
   ]
  },
  {
   "cell_type": "code",
   "execution_count": 4,
   "metadata": {},
   "outputs": [
    {
     "data": {
      "text/plain": [
       "4980"
      ]
     },
     "execution_count": 4,
     "metadata": {},
     "output_type": "execute_result"
    }
   ],
   "source": [
    "from collections import Counter\n",
    "def box_checksum(boxids):\n",
    "    triples = 0\n",
    "    doubles = 0\n",
    "    counters = [Counter(bid) for bid in boxids]\n",
    "    doubles, triples = sum([1 for c in counters if 2 in c.values()]), sum([1 for c in counters if 3 in c.values()])\n",
    "    return doubles * triples\n",
    "\n",
    "assert box_checksum(['aa']) == 0\n",
    "assert box_checksum(['aa', 'abbaa']) == 2\n",
    "assert box_checksum(['abc', 'aaaab', 'abab', 'abcabb']) == 2\n",
    "box_checksum(Input(2))"
   ]
  },
  {
   "cell_type": "markdown",
   "metadata": {},
   "source": [
    "So we scanned all the boxes, so now I can search for the right 2 boxes. They where manifactured very close to each other, meaning their ids are almost identical. Only the char at one position is different. So we have to return the remainder of the id."
   ]
  },
  {
   "cell_type": "code",
   "execution_count": 5,
   "metadata": {},
   "outputs": [
    {
     "data": {
      "text/plain": [
       "'qysdtrkloagnfozuwujmhrbvx'"
      ]
     },
     "execution_count": 5,
     "metadata": {},
     "output_type": "execute_result"
    }
   ],
   "source": [
    "import itertools\n",
    "def common_chars_in_boxids(boxids):\n",
    "    for s in itertools.product(boxids,repeat=2):\n",
    "        matches = [ pair[0] for pair in zip(s[0],s[1]) if pair[0] == pair[1]]\n",
    "        if len(s[0])-1 == len(matches):\n",
    "            #print(s,matches)\n",
    "            return \"\".join(matches)\n",
    "\n",
    "common_chars_in_boxids(['abc','cde','bbc']) == 'bc'\n",
    "common_chars_in_boxids(['axc','cde','abc']) == 'ac'\n",
    "common_chars_in_boxids(Input(2))"
   ]
  },
  {
   "cell_type": "markdown",
   "metadata": {},
   "source": [
    "## Day 3\n",
    "While the elves have found the fabric, they can't decide how to cut it. They each want to cut a rectangle out of it, specified like `#<ID> @ <off_left>,<off_right>: <width>x<height>`. As a helping hand, I have to determine how many squares are claimed by more than one rectangle.\n",
    "\n",
    "We mark each square of the sheet with the id of each rectangle containing it. Now we only have to count all squares having more than one mark."
   ]
  },
  {
   "cell_type": "code",
   "execution_count": 6,
   "metadata": {},
   "outputs": [
    {
     "data": {
      "text/plain": [
       "118322"
      ]
     },
     "execution_count": 6,
     "metadata": {},
     "output_type": "execute_result"
    }
   ],
   "source": [
    "from collections import defaultdict\n",
    "import re\n",
    "\n",
    "test_claims = [\"#1 @ 1,3: 4x4\",\"#2 @ 3,1: 4x4\",\"#3 @ 5,5: 2x2\"]\n",
    "\n",
    "def get_claims(lines):\n",
    "    \"\"\" Yields (id, off_left, off_right, width, height)\"\"\"\n",
    "    for l in lines:\n",
    "        rv = tuple(re.findall('\\\\d+',l))\n",
    "        assert len(rv) == 5\n",
    "        yield rv\n",
    "assert list(get_claims(test_claims))[0] == ('1','1','3','4','4')\n",
    "\n",
    "def mark_sheet(claims):\n",
    "    marks = defaultdict(set)\n",
    "    for c in claims:\n",
    "        for x in range(int(c[1]), int(c[1])+int(c[3])):\n",
    "            for y in range(int(c[2]), int(c[2])+int(c[4])):\n",
    "                marks[(x,y)].add(c[0])\n",
    "    return marks\n",
    "\n",
    "def count_multi_marks(claims):\n",
    "    return len([1 for x in mark_sheet(claims).values() if len(x) > 1])\n",
    "\n",
    "assert count_multi_marks([(0,2,2,4,4), (1,1,1,1,1)]) == 0\n",
    "assert count_multi_marks([(0,2,2,4,3), (1,1,1,2,2)]) == 1\n",
    "assert count_multi_marks(get_claims(test_claims)) == 4\n",
    "assert count_multi_marks([(0,2,2,4,3), (1,1,1,2,2), (2,2,2,1,1)]) == 1\n",
    "\n",
    "count_multi_marks(get_claims(Input(3)))"
   ]
  },
  {
   "cell_type": "markdown",
   "metadata": {},
   "source": [
    "There seems to be one claim, that has no intersections with any of the others. If I find it, perhaps the elves can actually work from there."
   ]
  },
  {
   "cell_type": "code",
   "execution_count": 7,
   "metadata": {},
   "outputs": [
    {
     "data": {
      "text/plain": [
       "'1178'"
      ]
     },
     "execution_count": 7,
     "metadata": {},
     "output_type": "execute_result"
    }
   ],
   "source": [
    "def find_best_claim(claims):\n",
    "    all_ids = set()\n",
    "    intersecting_ids = set()\n",
    "    for v in mark_sheet(claims).values():\n",
    "        if len(v) > 1:\n",
    "            intersecting_ids.update(v)\n",
    "            #print(intersecting_ids)\n",
    "        all_ids.update(v)\n",
    "    # there has to be one\n",
    "    return all_ids.difference(intersecting_ids).pop()\n",
    "assert find_best_claim(get_claims(test_claims)) == '3'\n",
    "find_best_claim(get_claims(Input(3)))"
   ]
  }
 ],
 "metadata": {
  "kernelspec": {
   "display_name": "Python 3",
   "language": "python",
   "name": "python3"
  },
  "language_info": {
   "codemirror_mode": {
    "name": "ipython",
    "version": 3
   },
   "file_extension": ".py",
   "mimetype": "text/x-python",
   "name": "python",
   "nbconvert_exporter": "python",
   "pygments_lexer": "ipython3",
   "version": "3.7.1"
  }
 },
 "nbformat": 4,
 "nbformat_minor": 2
}
