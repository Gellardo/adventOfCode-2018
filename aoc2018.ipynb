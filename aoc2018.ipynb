{
 "cells": [
  {
   "cell_type": "markdown",
   "metadata": {},
   "source": [
    "# Advent of Code 2018\n",
    "We have to save christmas by solving 50 puzzles and going back in time.\n",
    "\n",
    "First I define some utility functions, e.g. to retrieve the input file for a given day using the sessioncookie stored in the file `cookie`."
   ]
  },
  {
   "cell_type": "code",
   "execution_count": 1,
   "metadata": {
    "scrolled": true
   },
   "outputs": [],
   "source": [
    "import requests\n",
    "import os\n",
    "def Input(day):\n",
    "    if not os.path.exists(f'day{day}.input'):\n",
    "        print(f'downloading input file for day {day}')\n",
    "        with open('cookie') as f:\n",
    "            cookie = f.read().strip()\n",
    "        resp = requests.get(f'https://adventofcode.com/2018/day/{day}/input',\n",
    "                            cookies={'session': cookie})\n",
    "        if resp.status_code == 200:\n",
    "            with open(f'day{day}.input', 'w') as f:\n",
    "                f.write(resp.text)\n",
    "        else:\n",
    "            print(f'Coockie might be expired: {res.status_code} {res.reason}')\n",
    "    with open(f'day{day}.input') as f:\n",
    "        return f.read().split()"
   ]
  },
  {
   "cell_type": "markdown",
   "metadata": {},
   "source": [
    "## Day 1\n",
    "We have a frequency-changing device, so first we look at the end-frequency after all changes in the file are applied to the start-frequency of 0. The second question is, which frequency is reached twice first, possibly having to loop the input multiple times"
   ]
  },
  {
   "cell_type": "code",
   "execution_count": 2,
   "metadata": {},
   "outputs": [
    {
     "data": {
      "text/plain": [
       "490"
      ]
     },
     "execution_count": 2,
     "metadata": {},
     "output_type": "execute_result"
    }
   ],
   "source": [
    "def end_frequency(input):\n",
    "    return sum([ int(l) for l in input])\n",
    "assert end_frequency(['+1']) == 1\n",
    "assert end_frequency([-1, 2,-2,5]) == 4\n",
    "end_frequency(Input(1))"
   ]
  },
  {
   "cell_type": "code",
   "execution_count": 3,
   "metadata": {},
   "outputs": [
    {
     "data": {
      "text/plain": [
       "70357"
      ]
     },
     "execution_count": 3,
     "metadata": {},
     "output_type": "execute_result"
    }
   ],
   "source": [
    "def find_duplicate_frequency(changes):\n",
    "    reached_frequencies = set([0])\n",
    "    current_frequency = 0\n",
    "    for i in range(10**100):\n",
    "        for l in changes:\n",
    "            current_frequency += int(l)\n",
    "            if current_frequency in reached_frequencies:\n",
    "                #print(f'iteration: {i}, {current_frequency}')\n",
    "                return current_frequency\n",
    "            reached_frequencies.add(current_frequency)\n",
    "assert find_duplicate_frequency([1,-1]) == 0\n",
    "assert find_duplicate_frequency([4, -2]) == 4\n",
    "find_duplicate_frequency(Input(1))"
   ]
  },
  {
   "cell_type": "markdown",
   "metadata": {},
   "source": [
    "## Day 2\n",
    "The special fabric for Santa's new suit has gone missing. After sneaking into the storageroom, I scan the boxes and obtain a list of boxids. First, I have to make sure, every box has been scanned by computing the checksum over all boxids by multiplying the number of ids containing the same character 2 and 3 times respectively."
   ]
  },
  {
   "cell_type": "code",
   "execution_count": 4,
   "metadata": {},
   "outputs": [
    {
     "data": {
      "text/plain": [
       "4980"
      ]
     },
     "execution_count": 4,
     "metadata": {},
     "output_type": "execute_result"
    }
   ],
   "source": [
    "from collections import Counter\n",
    "def box_checksum(boxids):\n",
    "    triples = 0\n",
    "    doubles = 0\n",
    "    counters = [Counter(bid) for bid in boxids]\n",
    "    doubles, triples = sum([1 for c in counters if 2 in c.values()]), sum([1 for c in counters if 3 in c.values()])\n",
    "    return doubles * triples\n",
    "\n",
    "assert box_checksum(['aa']) == 0\n",
    "assert box_checksum(['aa', 'abbaa']) == 2\n",
    "assert box_checksum(['abc', 'aaaab', 'abab', 'abcabb']) == 2\n",
    "box_checksum(Input(2))"
   ]
  },
  {
   "cell_type": "markdown",
   "metadata": {},
   "source": [
    "So we scanned all the boxes, so now I can search for the right 2 boxes. They where manifactured very close to each other, meaning their ids are almost identical. Only the char at one position is different. So we have to return the remainder of the id."
   ]
  },
  {
   "cell_type": "code",
   "execution_count": 5,
   "metadata": {},
   "outputs": [
    {
     "data": {
      "text/plain": [
       "'qysdtrkloagnfozuwujmhrbvx'"
      ]
     },
     "execution_count": 5,
     "metadata": {},
     "output_type": "execute_result"
    }
   ],
   "source": [
    "import itertools\n",
    "def common_chars_in_boxids(boxids):\n",
    "    for s in itertools.product(boxids,repeat=2):\n",
    "        matches = [ pair[0] for pair in zip(s[0],s[1]) if pair[0] == pair[1]]\n",
    "        if len(s[0])-1 == len(matches):\n",
    "            #print(s,matches)\n",
    "            return \"\".join(matches)\n",
    "\n",
    "common_chars_in_boxids(['abc','cde','bbc']) == 'bc'\n",
    "common_chars_in_boxids(['axc','cde','abc']) == 'ac'\n",
    "common_chars_in_boxids(Input(2))"
   ]
  }
 ],
 "metadata": {
  "kernelspec": {
   "display_name": "Python 3",
   "language": "python",
   "name": "python3"
  },
  "language_info": {
   "codemirror_mode": {
    "name": "ipython",
    "version": 3
   },
   "file_extension": ".py",
   "mimetype": "text/x-python",
   "name": "python",
   "nbconvert_exporter": "python",
   "pygments_lexer": "ipython3",
   "version": "3.7.1"
  }
 },
 "nbformat": 4,
 "nbformat_minor": 2
}
