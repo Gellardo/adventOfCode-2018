{
 "cells": [
  {
   "cell_type": "markdown",
   "metadata": {},
   "source": [
    "# Advent of Code 2018\n",
    "We have to save christmas by solving 50 puzzles and going back in time.\n",
    "\n",
    "First I define some utility functions, e.g. to retrieve the input file for a given day using the sessioncookie stored in the file `cookie`."
   ]
  },
  {
   "cell_type": "code",
   "execution_count": 1,
   "metadata": {
    "scrolled": true
   },
   "outputs": [],
   "source": [
    "import requests\n",
    "import os\n",
    "def Input(day):\n",
    "    if not os.path.exists(f'day{day}.input'):\n",
    "        print(f'downloading input file for day {day}')\n",
    "        with open('cookie') as f:\n",
    "            cookie = f.read().strip()\n",
    "        resp = requests.get(f'https://adventofcode.com/2018/day/{day}/input',\n",
    "                            cookies={'session': cookie})\n",
    "        if resp.status_code == 200:\n",
    "            with open(f'day{day}.input', 'w') as f:\n",
    "                f.write(resp.text)\n",
    "        else:\n",
    "            print(f'Coockie might be expired: {res.status_code} {res.reason}')\n",
    "    with open(f'day{day}.input') as f:\n",
    "        # discard the last line, since it is empty\n",
    "        return f.read().split('\\n')[:-1]\n",
    "from matplotlib import pyplot as plt\n",
    "%matplotlib inline"
   ]
  },
  {
   "cell_type": "markdown",
   "metadata": {},
   "source": [
    "## Day 1\n",
    "We have a frequency-changing device, so first we look at the end-frequency after all changes in the file are applied to the start-frequency of 0. The second question is, which frequency is reached twice first, possibly having to loop the input multiple times"
   ]
  },
  {
   "cell_type": "code",
   "execution_count": 2,
   "metadata": {},
   "outputs": [
    {
     "data": {
      "text/plain": [
       "490"
      ]
     },
     "execution_count": 2,
     "metadata": {},
     "output_type": "execute_result"
    }
   ],
   "source": [
    "def end_frequency(input):\n",
    "    return sum([ int(l) for l in input])\n",
    "assert end_frequency(['+1']) == 1\n",
    "assert end_frequency([-1, 2,-2,5]) == 4\n",
    "end_frequency(Input(1))"
   ]
  },
  {
   "cell_type": "code",
   "execution_count": 3,
   "metadata": {},
   "outputs": [
    {
     "data": {
      "text/plain": [
       "70357"
      ]
     },
     "execution_count": 3,
     "metadata": {},
     "output_type": "execute_result"
    }
   ],
   "source": [
    "def find_duplicate_frequency(changes):\n",
    "    reached_frequencies = set([0])\n",
    "    current_frequency = 0\n",
    "    for i in range(10**100):\n",
    "        for l in changes:\n",
    "            current_frequency += int(l)\n",
    "            if current_frequency in reached_frequencies:\n",
    "                #print(f'iteration: {i}, {current_frequency}')\n",
    "                return current_frequency\n",
    "            reached_frequencies.add(current_frequency)\n",
    "assert find_duplicate_frequency([1,-1]) == 0\n",
    "assert find_duplicate_frequency([4, -2]) == 4\n",
    "find_duplicate_frequency(Input(1))"
   ]
  },
  {
   "cell_type": "markdown",
   "metadata": {},
   "source": [
    "## Day 2\n",
    "The special fabric for Santa's new suit has gone missing. After sneaking into the storageroom, I scan the boxes and obtain a list of boxids. First, I have to make sure, every box has been scanned by computing the checksum over all boxids by multiplying the number of ids containing the same character 2 and 3 times respectively."
   ]
  },
  {
   "cell_type": "code",
   "execution_count": 4,
   "metadata": {},
   "outputs": [
    {
     "data": {
      "text/plain": [
       "4980"
      ]
     },
     "execution_count": 4,
     "metadata": {},
     "output_type": "execute_result"
    }
   ],
   "source": [
    "from collections import Counter\n",
    "def box_checksum(boxids):\n",
    "    triples = 0\n",
    "    doubles = 0\n",
    "    counters = [Counter(bid) for bid in boxids]\n",
    "    doubles, triples = sum([1 for c in counters if 2 in c.values()]), sum([1 for c in counters if 3 in c.values()])\n",
    "    return doubles * triples\n",
    "\n",
    "assert box_checksum(['aa']) == 0\n",
    "assert box_checksum(['aa', 'abbaa']) == 2\n",
    "assert box_checksum(['abc', 'aaaab', 'abab', 'abcabb']) == 2\n",
    "box_checksum(Input(2))"
   ]
  },
  {
   "cell_type": "markdown",
   "metadata": {},
   "source": [
    "So we scanned all the boxes, so now I can search for the right 2 boxes. They where manifactured very close to each other, meaning their ids are almost identical. Only the char at one position is different. So we have to return the remainder of the id."
   ]
  },
  {
   "cell_type": "code",
   "execution_count": 5,
   "metadata": {},
   "outputs": [
    {
     "data": {
      "text/plain": [
       "'qysdtrkloagnfozuwujmhrbvx'"
      ]
     },
     "execution_count": 5,
     "metadata": {},
     "output_type": "execute_result"
    }
   ],
   "source": [
    "import itertools\n",
    "def common_chars_in_boxids(boxids):\n",
    "    for s in itertools.product(boxids,repeat=2):\n",
    "        matches = [ pair[0] for pair in zip(s[0],s[1]) if pair[0] == pair[1]]\n",
    "        if len(s[0])-1 == len(matches):\n",
    "            #print(s,matches)\n",
    "            return \"\".join(matches)\n",
    "\n",
    "common_chars_in_boxids(['abc','cde','bbc']) == 'bc'\n",
    "common_chars_in_boxids(['axc','cde','abc']) == 'ac'\n",
    "common_chars_in_boxids(Input(2))"
   ]
  },
  {
   "cell_type": "markdown",
   "metadata": {},
   "source": [
    "## Day 3\n",
    "While the elves have found the fabric, they can't decide how to cut it. They each want to cut a rectangle out of it, specified like `#<ID> @ <off_left>,<off_right>: <width>x<height>`. As a helping hand, I have to determine how many squares are claimed by more than one rectangle.\n",
    "\n",
    "We mark each square of the sheet with the id of each rectangle containing it. Now we only have to count all squares having more than one mark."
   ]
  },
  {
   "cell_type": "code",
   "execution_count": 6,
   "metadata": {},
   "outputs": [
    {
     "data": {
      "text/plain": [
       "118322"
      ]
     },
     "execution_count": 6,
     "metadata": {},
     "output_type": "execute_result"
    }
   ],
   "source": [
    "from collections import defaultdict\n",
    "import re\n",
    "\n",
    "test_claims = [\"#1 @ 1,3: 4x4\",\"#2 @ 3,1: 4x4\",\"#3 @ 5,5: 2x2\"]\n",
    "\n",
    "def get_claims(lines):\n",
    "    \"\"\" Yields (id, off_left, off_right, width, height)\"\"\"\n",
    "    for l in lines:\n",
    "        rv = tuple(re.findall('\\\\d+',l))\n",
    "        assert len(rv) == 5\n",
    "        yield rv\n",
    "assert list(get_claims(test_claims))[0] == ('1','1','3','4','4')\n",
    "\n",
    "def mark_sheet(claims):\n",
    "    marks = defaultdict(set)\n",
    "    for c in claims:\n",
    "        for x in range(int(c[1]), int(c[1])+int(c[3])):\n",
    "            for y in range(int(c[2]), int(c[2])+int(c[4])):\n",
    "                marks[(x,y)].add(c[0])\n",
    "    return marks\n",
    "\n",
    "def count_multi_marks(claims):\n",
    "    return len([1 for x in mark_sheet(claims).values() if len(x) > 1])\n",
    "\n",
    "assert count_multi_marks([(0,2,2,4,4), (1,1,1,1,1)]) == 0\n",
    "assert count_multi_marks([(0,2,2,4,3), (1,1,1,2,2)]) == 1\n",
    "assert count_multi_marks(get_claims(test_claims)) == 4\n",
    "assert count_multi_marks([(0,2,2,4,3), (1,1,1,2,2), (2,2,2,1,1)]) == 1\n",
    "\n",
    "count_multi_marks(get_claims(Input(3)))"
   ]
  },
  {
   "cell_type": "markdown",
   "metadata": {},
   "source": [
    "There seems to be one claim, that has no intersections with any of the others. If I find it, perhaps the elves can actually work from there."
   ]
  },
  {
   "cell_type": "code",
   "execution_count": 7,
   "metadata": {},
   "outputs": [
    {
     "data": {
      "text/plain": [
       "'1178'"
      ]
     },
     "execution_count": 7,
     "metadata": {},
     "output_type": "execute_result"
    }
   ],
   "source": [
    "def find_best_claim(claims):\n",
    "    all_ids = set()\n",
    "    intersecting_ids = set()\n",
    "    for v in mark_sheet(claims).values():\n",
    "        if len(v) > 1:\n",
    "            intersecting_ids.update(v)\n",
    "            #print(intersecting_ids)\n",
    "        all_ids.update(v)\n",
    "    # there has to be one\n",
    "    return all_ids.difference(intersecting_ids).pop()\n",
    "assert find_best_claim(get_claims(test_claims)) == '3'\n",
    "find_best_claim(get_claims(Input(3)))"
   ]
  },
  {
   "cell_type": "markdown",
   "metadata": {},
   "source": [
    "## Day 4\n",
    "Having to break into a security room guarded by a guard. Since they seem to be sleepy I just have to figure out, which guard and time is the ideal combination. Strategy 1: Use the most sleepy guard and then take the time he was asleep at the most.\n",
    "\n",
    "I'll first try the easy solution of just accumulating the sleeping minutes of every guard into a Counter. By using the right order within tuples, I can condense finding the `sleepy_guard` into one `max()`. The submission is `chosen_minute * guardId`."
   ]
  },
  {
   "cell_type": "code",
   "execution_count": 8,
   "metadata": {},
   "outputs": [
    {
     "data": {
      "text/plain": [
       "101194"
      ]
     },
     "execution_count": 8,
     "metadata": {},
     "output_type": "execute_result"
    }
   ],
   "source": [
    "def translate_guard_plan(lines):\n",
    "    asleep = defaultdict(Counter)\n",
    "    last_entry = (-1,-1,\"x\")\n",
    "    for l in sorted(lines):\n",
    "        numbers = re.findall(\"\\\\d+\", l)\n",
    "        gid = int(numbers[5]) if len(numbers) == 6 else last_entry[0]\n",
    "        current_entry = (gid, int(numbers[4]), l.split()[-1])\n",
    "        if last_entry[2] == \"asleep\" and current_entry[2] == \"up\":\n",
    "            asleep[current_entry[0]].update(range(last_entry[1], current_entry[1]))\n",
    "        elif last_entry[2] == \"asleep\" and current_entry[2] == \"shift\":\n",
    "            raise AssertionError(\"Guardchange while sleeping is not accounted for\")\n",
    "        last_entry = current_entry\n",
    "    return asleep\n",
    "assert translate_guard_plan([\"[1518-11-01 00:05] wakes up\",\n",
    "                             \"[1518-11-01 00:00] Guard #1337 begins shift\",\n",
    "                             \"[1518-11-01 00:01] falls asleep\"]) == {1337: Counter([1,2,3,4])}\n",
    "\n",
    "def best_minute_by_guard(plan):\n",
    "    sleepy_guard = max([(sum(sleeping.values()), guard) for guard, sleeping in plan.items()])[1]\n",
    "    return plan[sleepy_guard].most_common(1)[0][0] * sleepy_guard\n",
    "assert best_minute_by_guard({1:Counter([1,2,2,2,2,2]), 2:Counter([10,10,10,11,11,11,11])}) == 2 * 11\n",
    "best_minute_by_guard(translate_guard_plan(Input(4)))"
   ]
  },
  {
   "cell_type": "markdown",
   "metadata": {},
   "source": [
    "Strategy 2: Find the minute were one guard sleeps more than any other guard on any other minute."
   ]
  },
  {
   "cell_type": "code",
   "execution_count": 9,
   "metadata": {},
   "outputs": [
    {
     "data": {
      "text/plain": [
       "102095"
      ]
     },
     "execution_count": 9,
     "metadata": {},
     "output_type": "execute_result"
    }
   ],
   "source": [
    "def best_guard_by_minute(plan):\n",
    "    sleepiest_minute = (-1,(-1,-1))\n",
    "    for guard, sleeping in plan.items():\n",
    "        if sleepiest_minute[1][1] < sleeping.most_common(1)[0][1]:\n",
    "            sleepiest_minute = (guard, sleeping.most_common(1)[0])\n",
    "    return plan[sleepiest_minute[0]].most_common()[0][0] * sleepiest_minute[0]\n",
    "assert best_guard_by_minute({1:Counter([1,2,2,2,2,2]), 2:Counter([10,10,10,11,11,11,11])}) == 1 * 2\n",
    "best_guard_by_minute(translate_guard_plan(Input(4)))"
   ]
  },
  {
   "cell_type": "markdown",
   "metadata": {},
   "source": [
    "## Day 5\n",
    "I have to reduce a long line (a polymer) of positive/negative units represented by upper/lowercase letters. A negative and a positive unit react and destroy each other, for example `abBAc = aAc = c`.\n",
    "\n",
    "The solution will work with a stack of unreacted units. The current letter can either react with the top of the stack, consuming the top and the current unit or be pushed onto the stack. The number of units remaining on the stack after iterating through the polymer is the answer to the puzzle."
   ]
  },
  {
   "cell_type": "code",
   "execution_count": 10,
   "metadata": {},
   "outputs": [
    {
     "data": {
      "text/plain": [
       "11194"
      ]
     },
     "execution_count": 10,
     "metadata": {},
     "output_type": "execute_result"
    }
   ],
   "source": [
    "def reduce_polymer(polymer):\n",
    "    reduced = [1] # need a unreactable bottom of the stack to avoid index errors\n",
    "    for c in polymer:\n",
    "        if (c.islower() and c.capitalize() == reduced[-1]) or (c.isupper() and c.lower() == reduced[-1]):\n",
    "            reduced.pop()\n",
    "        else:\n",
    "            reduced.append(c)\n",
    "    return len(reduced) - 1\n",
    "assert reduce_polymer('aABbc') == 1\n",
    "assert reduce_polymer('vBaAbV') == 0\n",
    "assert reduce_polymer('dabAcCaCBAcCcaDA') == 10\n",
    "reduce_polymer(Input(5)[0])"
   ]
  },
  {
   "cell_type": "markdown",
   "metadata": {},
   "source": [
    "What is the shortest polymer I can obtain by removing one letter paitr?"
   ]
  },
  {
   "cell_type": "code",
   "execution_count": 11,
   "metadata": {},
   "outputs": [
    {
     "data": {
      "text/plain": [
       "4178"
      ]
     },
     "execution_count": 11,
     "metadata": {},
     "output_type": "execute_result"
    }
   ],
   "source": [
    "import string\n",
    "def alter_polymer(polymer):\n",
    "    return min([reduce_polymer(re.sub(f\"[{c}{c.upper()}]\",'', polymer)) for c in string.ascii_lowercase])\n",
    "assert alter_polymer('aBBA') == 0\n",
    "assert alter_polymer('aBBAcAACCAAc') == 2\n",
    "alter_polymer(Input(5)[0])"
   ]
  },
  {
   "cell_type": "markdown",
   "metadata": {},
   "source": [
    "## Day 6\n",
    "I finished up in 1518, so now i am travelling through time again. But that timetravelthing does not work again. It is just giving me coordinates of things. I should pick out the one that is the furthest away from all others, to minimize the danger.\n",
    "\n",
    "To find that, I will floodfill the plane from each point, searching for the one leading to the largest area, while not being infinite.\n",
    "\n",
    "*Note*: I was thinking of removing my failed attempt of implementing the floodfill but I find it kind of amusing to look at. Even the second try went very wrong, until I finally figured out that my Inputparsing went really wrong...\n",
    "1. `'123, 354'` => `(1,1)`\n",
    "1. `'123, 354'` => `(1,2)`\n",
    "1. `'123, 354'` => `(123,354)`... Finally"
   ]
  },
  {
   "cell_type": "code",
   "execution_count": 12,
   "metadata": {},
   "outputs": [
    {
     "name": "stdout",
     "output_type": "stream",
     "text": [
      "infinite {0, 1, 2, 3}\n",
      "4 5\n",
      "infinite {0, 2, 4, 5, 7, 11, 14, 17, 19, 20, 23, 24, 25, 27, 30, 32, 33, 35, 36, 37, 39, 40, 41, 45}\n",
      "10 3894\n"
     ]
    },
    {
     "data": {
      "text/plain": [
       "3894"
      ]
     },
     "execution_count": 12,
     "metadata": {},
     "output_type": "execute_result"
    }
   ],
   "source": [
    "def find_largest(starting):\n",
    "    planesize = 400\n",
    "    plane = [ [(10**4,-1) for i in range(planesize)] for j in range(planesize)]\n",
    "    front = [(int(p[0]),int(p[1])) for p in starting]\n",
    "    def mark_point(plane, point, new_dist, new_did):\n",
    "        if point[0] < 0 or point[0] >= planesize or point[1] < 0 or point[1] >= planesize:\n",
    "            return None\n",
    "        dist, did = plane[point[0], point[1]]\n",
    "        if new_dist < dist:\n",
    "            dist = new_dist\n",
    "            did = new_did\n",
    "        elif new_dist == dist:\n",
    "            did = -1\n",
    "        plane[point[0]][point[1]] = (dist, did)\n",
    "        return (point[0], point[1])\n",
    "    def do_flood_step(plane, front):\n",
    "        new_front = []\n",
    "        for x,y in front:\n",
    "            dist, did = plane[x][y]\n",
    "            tmp = mark_point(plane, plane[x-1][y], dist+1, did)\n",
    "            if tmp != None: new_front.append(tmp)\n",
    "            tmp = mark_point(plane, plane[x+1][y], dist+1, did)\n",
    "            if tmp != None: new_front.append(tmp)\n",
    "            tmp = mark_point(plane, plane[x][y-1], dist+1, did)\n",
    "            if tmp != None: new_front.append(tmp)\n",
    "            tmp = mark_point(plane, plane[x][y+1], dist+1, did)\n",
    "            if tmp != None: new_front.append(tmp)\n",
    "        return plane, new_front\n",
    "    while len(front) > 0:\n",
    "        print(len(front))\n",
    "        plane, front = do_flood_step(plane,front)\n",
    "#floodfill([ p.split(', ') for p in Input(6) ])\n",
    "#map(lambda p: (int(p[0]),int(p[1])), b)\n",
    "\n",
    "def find_largest2(starting, size=450):\n",
    "    infinite = set()\n",
    "    #print(len(starting), starting)\n",
    "    counter = Counter()\n",
    "    for x in range(size):\n",
    "        for y in range(size):\n",
    "            #print([(sum([*p, -x, -y]), f\"{p[0],p[1]} - {x} -{y}\") for i, p in enumerate(starting)])\n",
    "            min_l = sorted([(abs(p[0]-x) + abs( p[1] -y), i) for i, p in enumerate(starting)])\n",
    "            #if(min_l[0][1] != 28 and min_l[0][1] != 8):\n",
    "                #print(min_l[:3])\n",
    "            i = min_l[0][1]\n",
    "            if min_l[0][0] < min_l[1][0]:\n",
    "                counter.update([i])\n",
    "            elif i not in counter:\n",
    "                pass\n",
    "                #print(\"unknown:\",min_l[:2])\n",
    "            #print(f\"{x},{y} -> startin[{i}]\")\n",
    "            if x == 0 or x == size-1 or y == 0 or y == size-1:\n",
    "                infinite.add(i)\n",
    "    print('infinite',infinite)\n",
    "    #print('counter',len(counter),counter.most_common())\n",
    "    for i, count in counter.most_common():\n",
    "        if i not in infinite:\n",
    "            print(i, count)\n",
    "            return count\n",
    "assert find_largest2([(1,1),(5,1),(5,5),(1,5),(3,3)], 7) == 5 # only (2,2) is not extending to infinite\n",
    "find_largest2(list(map(lambda p: (int(p[0]),int(p[1])),map(lambda p: p.split(', '),Input(6)))))"
   ]
  },
  {
   "cell_type": "markdown",
   "metadata": {},
   "source": [
    "Perhaps its better to choose a spot as close to all points as possible. So how many spots are there, for which the total distance to all points is less than `10000`."
   ]
  },
  {
   "cell_type": "code",
   "execution_count": 13,
   "metadata": {},
   "outputs": [
    {
     "data": {
      "text/plain": [
       "39398"
      ]
     },
     "execution_count": 13,
     "metadata": {},
     "output_type": "execute_result"
    }
   ],
   "source": [
    "def get_spots_closest(starting, size=400, threshold=10000):\n",
    "    count = 0\n",
    "    for x in range(size):\n",
    "        for y in range(size):\n",
    "            distance2all = sum([ abs(p[0]-x)+abs( p[1] -y) for p in starting])\n",
    "            if distance2all < threshold:\n",
    "                count+=1\n",
    "    return count\n",
    "get_spots_closest(list(map(lambda p: (int(p[0]),int(p[1])),map(lambda p: p.split(', '),Input(6)))))"
   ]
  },
  {
   "cell_type": "markdown",
   "metadata": {},
   "source": [
    "## Day 7\n",
    "I reached 1018, immediately spotting elves carring a building parts of a sleigh. The instructions for building it form a directed graph, e.g. part X has to be finished before starting part Y. If there are multiple parts ready, we go by the alphabetical order.\n",
    "\n",
    "I collect the edges into a dict containing all the parts that have to be finished first. Then I only have to take one out that has no precondition, clearing out the dict each step."
   ]
  },
  {
   "cell_type": "code",
   "execution_count": 14,
   "metadata": {},
   "outputs": [
    {
     "data": {
      "text/plain": [
       "'OCPUEFIXHRGWDZABTQJYMNKVSL'"
      ]
     },
     "execution_count": 14,
     "metadata": {},
     "output_type": "execute_result"
    }
   ],
   "source": [
    "def sleigh_building_steps(steps):\n",
    "    all_stages = set()\n",
    "    result = \"\"\n",
    "    for pre, post in steps:\n",
    "        all_stages.update([pre,post])\n",
    "    while len(all_stages) > 0:\n",
    "        next_stage = [ stage for stage in all_stages if stage not in [ post for _,post in steps]]\n",
    "        #print(min(next_stage),next_stage)\n",
    "        result+=min(next_stage)\n",
    "        all_stages.remove(min(next_stage))\n",
    "        steps = [ (pre, post) for pre, post in steps if pre != min(next_stage)]\n",
    "    return result\n",
    "assert sleigh_building_steps([('A','B'), ('B','C')]) == 'ABC'\n",
    "assert sleigh_building_steps([('A','B'), ('B','C'), ('D','B')]) == 'ADBC'\n",
    "sleigh_building_steps([re.findall('[A-Z]', l)[1:] for l in Input(7)])"
   ]
  },
  {
   "cell_type": "markdown",
   "metadata": {},
   "source": [
    "### Stage 2 Try 1\n",
    "Now each step takes `60 + letter` seconds, so `A` takes 61, `B` takes 62, and so on. But luckily the there are 4 Elves willing to help me build the sleigh, so it should not take to long to fully assemble it. A Stage is only appended to the Output, once it has been completed."
   ]
  },
  {
   "cell_type": "code",
   "execution_count": 15,
   "metadata": {},
   "outputs": [
    {
     "name": "stdout",
     "output_type": "stream",
     "text": [
      "time, result, currently worked on stages, finished stage\n",
      "75 O [('P', 1), ('C', 63)] ['O']\n",
      "76 OP [('C', 62), ('U', 81), ('X', 84)] ['P']\n",
      "138 OPC [('U', 19), ('X', 22)] ['C']\n",
      "157 OPCU [('X', 3), ('E', 65)] ['U']\n",
      "160 OPCUX [('E', 62), ('H', 68)] ['X']\n",
      "222 OPCUXE [('H', 6), ('F', 66), ('I', 69)] ['E']\n",
      "228 OPCUXEH [('F', 60), ('I', 63), ('R', 78), ('W', 83), ('Z', 86)] ['H']\n",
      "288 OPCUXEHF [('I', 3), ('R', 18), ('W', 23), ('Z', 26)] ['F']\n",
      "291 OPCUXEHFI [('R', 15), ('W', 20), ('Z', 23)] ['I']\n",
      "306 OPCUXEHFIR [('W', 5), ('Z', 8), ('G', 67)] ['R']\n",
      "311 OPCUXEHFIRW [('Z', 3), ('G', 62), ('D', 64)] ['W']\n",
      "314 OPCUXEHFIRWZ [('G', 59), ('D', 61), ('A', 61)] ['Z']\n",
      "373 OPCUXEHFIRWZG [('D', 2), ('A', 2)] ['G']\n",
      "375 OPCUXEHFIRWZGAD [('B', 62), ('T', 80)] ['D', 'A']\n",
      "437 OPCUXEHFIRWZGADB [('T', 18)] ['B']\n",
      "455 OPCUXEHFIRWZGADBT [('Q', 77), ('Y', 85)] ['T']\n",
      "532 OPCUXEHFIRWZGADBTQ [('Y', 8), ('J', 70)] ['Q']\n",
      "540 OPCUXEHFIRWZGADBTQY [('J', 62), ('M', 73)] ['Y']\n",
      "602 OPCUXEHFIRWZGADBTQYJ [('M', 11)] ['J']\n",
      "613 OPCUXEHFIRWZGADBTQYJM [('N', 74)] ['M']\n",
      "687 OPCUXEHFIRWZGADBTQYJMN [('K', 71)] ['N']\n",
      "758 OPCUXEHFIRWZGADBTQYJMNK [('V', 82)] ['K']\n",
      "840 OPCUXEHFIRWZGADBTQYJMNKV [('S', 79)] ['V']\n",
      "919 OPCUXEHFIRWZGADBTQYJMNKVS [('L', 72)] ['S']\n",
      "991 OPCUXEHFIRWZGADBTQYJMNKVSL [] ['L']\n"
     ]
    },
    {
     "data": {
      "text/plain": [
       "('OPCUXEHFIRWZGADBTQYJMNKVSL', 991)"
      ]
     },
     "execution_count": 15,
     "metadata": {},
     "output_type": "execute_result"
    }
   ],
   "source": [
    "def assemble_sleigh_with_elves(steps, base_time=60, workers=5, debug=False):\n",
    "    result = \"\"\n",
    "    working = []\n",
    "    remaining = set([pre for pre, _ in steps] + [post for _, post in steps])\n",
    "    ready = [ stage for stage in remaining if stage not in [ post for _,post in steps] and\n",
    "                                              stage not in [ stage for stage,_ in working]]\n",
    "    time = -1\n",
    "    if debug:\n",
    "        print('time, result, currently worked on stages, finished stage')\n",
    "    while len(remaining) > 0:\n",
    "        time+=1\n",
    "        done = [stage for stage, remaining in working if remaining - 1 == 0]\n",
    "        steps = [ (pre, post) for pre, post in steps if pre not in done]\n",
    "        assert len([pre for pre,_ in steps if pre in done]) == 0\n",
    "        remaining = remaining.difference(set(done))\n",
    "        assert len([d for d in done if d in remaining]) == 0\n",
    "        working = [(stage, remaining-1) for stage, remaining in working if remaining - 1 > 0]\n",
    "        ready = [ stage for stage in remaining if stage not in [ post for _,post in steps] and\n",
    "                                                  stage not in [ stage for stage,_ in working]]\n",
    "        result += \"\".join(sorted(done))\n",
    "        if len(working) < workers:\n",
    "            for i in range(min([len(ready),workers - len(working)])):\n",
    "                next_step = min(ready)\n",
    "                working.append((next_step, ord(next_step) - ord('A') + 1 + base_time))\n",
    "                ready.remove(next_step)\n",
    "        if len(done) > 0 and debug:\n",
    "            print(time, result, working, done)\n",
    "    return result, time\n",
    "assert assemble_sleigh_with_elves([('B','A'),('A','C'), ('D','C')], base_time=0, workers=2) == ('BADC', 7)\n",
    "assert assemble_sleigh_with_elves([('C','A'),('C','F'),('A','B'),('A','D'),\n",
    "                                   ('B','E'),('D','E'),('F','E')], base_time=0, workers=2) == ('CABFDE', 15)\n",
    "assemble_sleigh_with_elves([re.findall('[A-Z]', l)[1:] for l in Input(7)], debug=True)"
   ]
  },
  {
   "cell_type": "markdown",
   "metadata": {},
   "source": [
    "I could not figure out, why my answer `OPCUXEHFIRWZGADBTQYJMNKVSL` was not accepted, even though the code worked on the given example and my own. I even tried different manually changing the order of stages, which finished at the same time, and printing the graph with `dot` to see if i missed anything.\n",
    "\n",
    "### Stage 2 Try 2\n",
    "After giving up and going to sleep after 2h, I came back the next day and figured that I should reimplement my solution, to make sure I implemented the correct solution."
   ]
  },
  {
   "cell_type": "code",
   "execution_count": 16,
   "metadata": {},
   "outputs": [
    {
     "data": {
      "text/plain": [
       "('OPCUXEHFIRWZGADBTQYJMNKVSL', 991)"
      ]
     },
     "execution_count": 16,
     "metadata": {},
     "output_type": "execute_result"
    }
   ],
   "source": [
    "def assemble_sleigh_with_elves_2(steps, base_time=60, workers=5):\n",
    "    step_dict = defaultdict(set)\n",
    "    remaining_stages = set()\n",
    "    for pre, post in steps:\n",
    "        step_dict[pre].add(post)\n",
    "        remaining_stages.update([pre, post])\n",
    "    def blocked():\n",
    "        return set.union(set(),*list(step_dict.values()))\n",
    "    def ready():\n",
    "        return sorted(list(remaining_stages.difference(blocked())))\n",
    "    # setup loop variables\n",
    "    finished_at = defaultdict(list)\n",
    "    def working():\n",
    "        return sum([l for l in finished_at.values()], [])\n",
    "    time = -1\n",
    "    result = ''\n",
    "    while len(remaining_stages) > 0:\n",
    "        time+=1\n",
    "        # remove finished stages\n",
    "        result += \"\".join(sorted(list(finished_at[time])))\n",
    "        for stage in finished_at[time]:\n",
    "            if stage in step_dict:\n",
    "                del(step_dict[stage])\n",
    "            remaining_stages.remove(stage)\n",
    "        del(finished_at[time])\n",
    "        \n",
    "        # shedule work\n",
    "        for stage in ready():\n",
    "            if len(working()) < workers and stage not in working():\n",
    "                finished_at[time + ord(stage)-ord('A')+base_time+1].append(stage)\n",
    "    return result, time\n",
    "        \n",
    "assert assemble_sleigh_with_elves_2([('B','A'),('A','C'), ('D','C')], base_time=0, workers=2) == ('BADC', 7)\n",
    "assert assemble_sleigh_with_elves_2([('C','A'),('C','F'),('A','B'),('A','D'),\n",
    "                                     ('B','E'),('D','E'),('F','E')], base_time=0, workers=2) == ('CABFDE', 15)\n",
    "# check if both implementations do the same thing\n",
    "assert assemble_sleigh_with_elves_2([re.findall('[A-Z]', l)[1:] for l in Input(7)]) == (\n",
    "    assemble_sleigh_with_elves([re.findall('[A-Z]', l)[1:] for l in Input(7)]))\n",
    "assemble_sleigh_with_elves_2([re.findall('[A-Z]', l)[1:] for l in Input(7)])\n"
   ]
  },
  {
   "cell_type": "markdown",
   "metadata": {},
   "source": [
    "Aaaand both versions returned the same result... so reading again I noticed, that the answer should instead be the **amount of time** necessary to finish all steps. 😡😡😡\n",
    "\n",
    "Since I already tracked the time taken, I quickly added it to the output, finally completing part 2 of day 7."
   ]
  },
  {
   "cell_type": "markdown",
   "metadata": {},
   "source": [
    "## Day 8\n",
    "Have to decode a tree with metadata from a long line. first two digits are the number of children and the number of metadata respectively. Then follows the serialization of the children and after that the serialization of the metadata. Therefore it is a depth-first walk through the tree."
   ]
  },
  {
   "cell_type": "code",
   "execution_count": 17,
   "metadata": {},
   "outputs": [
    {
     "data": {
      "text/plain": [
       "(45750, [])"
      ]
     },
     "execution_count": 17,
     "metadata": {},
     "output_type": "execute_result"
    }
   ],
   "source": [
    "def reverse_depth_first(ints):\n",
    "    \"\"\"Returns the sum of metadata of the children + the remainder of the ints\"\"\"\n",
    "    next_children = ints[0]\n",
    "    next_metadata = ints[1]\n",
    "    ints = ints[2:]\n",
    "    sum_children = 0\n",
    "    for i in range(next_children):\n",
    "        tmp, ints = reverse_depth_first(ints)\n",
    "        sum_children+= tmp\n",
    "    metadata = ints[:next_metadata]\n",
    "    ints = ints[next_metadata:]\n",
    "    #print(f\"node children={next_children} meta={next_metadata}, sum={sum_children}+{sum(metadata)}, {ints}\")\n",
    "    return sum_children + sum(metadata), ints\n",
    "assert reverse_depth_first([0,2,5,7]) == (5+7, [])\n",
    "assert reverse_depth_first([2,1,1,1,0,1,5,7,0,1,11,13]) == (5+7+11+13,[])\n",
    "assert reverse_depth_first([2, 3, 0, 3, 10, 11, 12, 1, 1, 0, 1, 99, 2, 1, 1, 2]) == (138, [])\n",
    "reverse_depth_first(list(map(lambda i: int(i), Input(8)[0].split())))"
   ]
  },
  {
   "cell_type": "markdown",
   "metadata": {},
   "source": [
    "More or less the same problem, only this time, the value of a node with no children is still the sum of metadata, while a node with children uses its metadata to reference which values of the childs to sum up."
   ]
  },
  {
   "cell_type": "code",
   "execution_count": 18,
   "metadata": {},
   "outputs": [
    {
     "data": {
      "text/plain": [
       "(23266, [])"
      ]
     },
     "execution_count": 18,
     "metadata": {},
     "output_type": "execute_result"
    }
   ],
   "source": [
    "def reverse_depth_first_alternate(ints):\n",
    "    num_children, num_meta = ints[:2]\n",
    "    ints = ints[2:]\n",
    "    sum_children = [0]\n",
    "    for i in range(num_children):\n",
    "        child, ints = reverse_depth_first_alternate(ints)\n",
    "        sum_children.append(child)\n",
    "    metadata = ints[:num_meta]\n",
    "    ints = ints[num_meta:]\n",
    "    if num_children == 0:\n",
    "        #print('0child:', sum(metadata), ints)\n",
    "        return sum(metadata), ints\n",
    "    else:\n",
    "        return sum([sum_children[i] for i in metadata if i < len(sum_children)]), ints\n",
    "assert reverse_depth_first_alternate([0,2,1,2]) == (3,[])\n",
    "assert reverse_depth_first_alternate([3,7,0,1,10,0,1,20,0,1,30,0,1,1,2,3,4,5]) == (10+10+20+30, [])\n",
    "reverse_depth_first_alternate(list(map(lambda i: int(i), Input(8)[0].split())))"
   ]
  },
  {
   "cell_type": "markdown",
   "metadata": {},
   "source": [
    "## Day 9\n",
    "The elves want to play a game to pass the time. Adding marbles in a circle always with on space in beetween. Only on a marble with the value divisable by 23, the player keeps the marble and takes the marble 7 places counterclockwise from the last one. The added value of those marbles is added to the players score. The game continues with the marble directly to the right of the removed one.\n",
    "\n",
    "I bet there is a nice mathmatical formula for this, but i will just simulate the game to obtain the highest score of the game."
   ]
  },
  {
   "cell_type": "code",
   "execution_count": 19,
   "metadata": {},
   "outputs": [
    {
     "data": {
      "text/plain": [
       "390592"
      ]
     },
     "execution_count": 19,
     "metadata": {},
     "output_type": "execute_result"
    }
   ],
   "source": [
    "def winner_of_elven_game(players, last, debug=0):\n",
    "    ring = [0,1]\n",
    "    score = [0 for i in range(players)]\n",
    "    current = 1\n",
    "    for i in range(2,last+1):\n",
    "        if i % 23 != 0:\n",
    "            current = (current+2)%len(ring)\n",
    "            ring.insert(current, i)\n",
    "            #print(i%players, current, ring[current])\n",
    "        else:\n",
    "            current = (current - 7)%len(ring)\n",
    "            if debug > 1:\n",
    "                print(f\"{i:7d}: player {i%players:3d} now has \" +\n",
    "                      f\"{score[i%players]}+{i}+{ring[current]}\\t= {i+ring[current]+score[i%players]}\")\n",
    "            score[i%players] += i+ring[current]\n",
    "            del ring[current]\n",
    "        if debug > 0 and i % (last / 100) == 0:\n",
    "            print(i, i/last)\n",
    "    return max(score)\n",
    "\n",
    "assert winner_of_elven_game(9, 25) == 32\n",
    "assert winner_of_elven_game(10,1618) == 8317\n",
    "assert winner_of_elven_game(13, 7999) == 146373\n",
    "assert winner_of_elven_game(17, 1104) == 2764\n",
    "assert winner_of_elven_game(21, 6111) == 54718\n",
    "assert winner_of_elven_game(30, 5807) == 37305\n",
    "winner_of_elven_game(*map(int,re.findall('\\d+', Input(9)[0])))"
   ]
  },
  {
   "cell_type": "markdown",
   "metadata": {},
   "source": [
    "After making sure, the answer actually needs computing `71522*100` marbles, I start the incremental implementation, while searching for a pattern to exploit to be able to provide a cleaner solution."
   ]
  },
  {
   "cell_type": "code",
   "execution_count": 20,
   "metadata": {},
   "outputs": [],
   "source": [
    "def winner_of_elven_game_bigger():\n",
    "    players, last = (*map(int,re.findall('\\d+', Input(9)[0])),)\n",
    "    print(players,last)\n",
    "    winner_of_elven_game(players, last*100, debug=1)\n",
    "#%time winner_of_elven_game_bigger()"
   ]
  },
  {
   "cell_type": "code",
   "execution_count": 21,
   "metadata": {},
   "outputs": [
    {
     "name": "stdout",
     "output_type": "stream",
     "text": [
      "CPU times: user 4.43 s, sys: 127 ms, total: 4.56 s\n",
      "Wall time: 4.56 s\n"
     ]
    },
    {
     "data": {
      "text/plain": [
       "3277920293"
      ]
     },
     "execution_count": 21,
     "metadata": {},
     "output_type": "execute_result"
    }
   ],
   "source": [
    "# less inserting between values, should speed things up\n",
    "def winner_of_elven_game_smart(players,last, scale = 1):\n",
    "    return winner_of_elven_game_recurse(players, last*scale, [0 for i in range(players)], [0,1], 2)\n",
    "def winner_of_elven_game_recurse(players, last, score, current, next_num, debug=False):\n",
    "    if debug:\n",
    "        print(f\"in={len(current)}, next={next_num}\")\n",
    "    offset = 0\n",
    "    result = []\n",
    "    def take1(n=1):\n",
    "        nonlocal offset\n",
    "        for i in range(n):\n",
    "            result.append(current[offset])\n",
    "            offset+=1\n",
    "    def take2(n=1):\n",
    "        nonlocal next_num\n",
    "        for i in range(n):\n",
    "            if next_num % 23 == 0:\n",
    "                next_num+=1\n",
    "            result.append(next_num)\n",
    "            next_num+=1\n",
    "    while (offset < 10 and offset< len(current)) or offset < len(current)-5:\n",
    "        take1()\n",
    "        take2()\n",
    "        if (next_num + 4) % 23 == 0: # uses 4 from current\n",
    "            score[next_num%players] += current[offset]+next_num+4\n",
    "            #if max(score) >= 146373:\n",
    "            #   debug = True\n",
    "            if debug:\n",
    "                print(f\"new score {score} from {current[offset]} + {next_num}\")\n",
    "            offset += 1\n",
    "            take2()\n",
    "            take1()\n",
    "            result.append(next_num+4)\n",
    "            take2()\n",
    "            result.append(next_num+4)\n",
    "            take1()\n",
    "            result.append(next_num+5)\n",
    "            take2()\n",
    "            result.append(next_num+5)\n",
    "            take1()\n",
    "            result.append(next_num+6)\n",
    "            take2()\n",
    "            result.append(next_num+6)\n",
    "            next_num+=7\n",
    "        elif next_num > last:\n",
    "            break\n",
    "        if debug:\n",
    "            print(f\"result during loop {len(result)}\")\n",
    "    if debug:\n",
    "        print(f\"while done @{next_num} {len(result)}\")\n",
    "    if next_num > last:\n",
    "        #print(f\"returning {max(score)} from {score}\")\n",
    "        #print(current,result)\n",
    "        return max(score)\n",
    "    # reset the offset to 0 by rotating the ring of marbles\n",
    "    return winner_of_elven_game_recurse(players, last, score, current[offset:] + result, next_num)\n",
    "\n",
    "assert winner_of_elven_game_smart(9, 35) == 32\n",
    "assert winner_of_elven_game_smart(10,1618) == 8317\n",
    "#assert winner_of_elven_game_smart(13, 7999) == 146373\n",
    "assert winner_of_elven_game_smart(17, 1104) == 2764\n",
    "assert winner_of_elven_game_smart(21, 6111) == 54718\n",
    "assert winner_of_elven_game_smart(30, 5807) == 37305\n",
    "%time winner_of_elven_game_smart(*map(int,re.findall('\\d+', Input(9)[0])), scale=100)"
   ]
  },
  {
   "cell_type": "markdown",
   "metadata": {},
   "source": [
    "Interestingly, the testcases are not completely working but the result was accepted.\n",
    "\n",
    "But the second version faster by at least a factor 50. The naive version has to copy a large part of the list on every insert (since it has to insert inbetween other entries. The new version always only appends to a list or adds lists, which are linear operations and less copying of values.\n",
    "\n",
    "The hard part is how to fill the result list, when a number divisible by 23 is coming up. It only worked after double-checking the newly added values at least twice."
   ]
  },
  {
   "cell_type": "markdown",
   "metadata": {},
   "source": [
    "## Day 10\n",
    "The elves need to find the right way by looking at the stars. They form a message in the sky, but I don't want to wait for it to actually appear.\n",
    "\n",
    "So lets speed up time a little by moving the stars using programming. Since it is not clear, when the message will appear I need some kind of heuristic to determine when to stop. The first plan is to just look for the average amount of direct neighbors of each star. If they form letters that number should probably be somewhere close to 2?"
   ]
  },
  {
   "cell_type": "code",
   "execution_count": 22,
   "metadata": {},
   "outputs": [
    {
     "name": "stdout",
     "output_type": "stream",
     "text": [
      "The stars after 10036 seconds\n",
      "................................................................\n",
      "....###.....###..#....#..######..#....#..#....#..######..#####..\n",
      ".....#.......#...#....#.......#..#....#..#...#...#.......#....#.\n",
      ".....#.......#....#..#........#..#....#..#..#....#.......#....#.\n",
      ".....#.......#....#..#.......#...#....#..#.#.....#.......#....#.\n",
      ".....#.......#.....##.......#....######..##......#####...#####..\n",
      ".....#.......#.....##......#.....#....#..##......#.......#......\n",
      ".....#.......#....#..#....#......#....#..#.#.....#.......#......\n",
      ".#...#...#...#....#..#...#.......#....#..#..#....#.......#......\n",
      ".#...#...#...#...#....#..#.......#....#..#...#...#.......#......\n",
      "..###.....###....#....#..######..#....#..#....#..#.......#......\n",
      "................................................................\n"
     ]
    },
    {
     "data": {
      "image/png": "[encoded data removed]",
      "text/plain": [
       "<Figure size 432x288 with 1 Axes>"
      ]
     },
     "metadata": {
      "needs_background": "light"
     },
     "output_type": "display_data"
    }
   ],
   "source": [
    "def neighbors(point, diagonals=False, include_self=False):\n",
    "    yield point[0]-1, point[1]\n",
    "    if diagonals:\n",
    "        yield point[0]-1, point[1]-1\n",
    "        yield point[0]-1, point[1]+1\n",
    "        yield point[0]+1, point[1]-1\n",
    "        yield point[0]+1, point[1]+1\n",
    "    yield point[0]+1, point[1]\n",
    "    if include_self:\n",
    "        yield point\n",
    "    yield point[0], point[1]+1\n",
    "    yield point[0], point[1]-1\n",
    "def average_neighbors(points):\n",
    "        n = 0\n",
    "        for point in points:\n",
    "            for neighbor in neighbors(point):\n",
    "                if neighbor in points:\n",
    "                    n+=1\n",
    "        return n/len(points)\n",
    "assert average_neighbors([(1,1),(0,1),(1,0),(1,2),(2,1)]) == (4+4*1)/5\n",
    "def print_2d(x=None,y=None,width=None,height=None,points=None,f=None):\n",
    "    if x == None:\n",
    "        x = min([p[0] for p in points]) - 1\n",
    "    if width == None:\n",
    "        width = max([p[0] for p in points]) - x + 2\n",
    "    if y == None:\n",
    "        y = min([p[1] for p in points]) - 1\n",
    "    if height == None:\n",
    "        height = max([p[1] for p in points]) - y + 2\n",
    "    if f == None:\n",
    "        f = lambda x,y: '#' if (x,y) in points else '.'\n",
    "    for j in range(y,y+height):\n",
    "            for i in range(x, x+width):\n",
    "                print(f(i,j), end='')\n",
    "            print('')\n",
    "\n",
    "def speed_up_the_stars(stars, known_time=-1):\n",
    "    averages = [0]\n",
    "    for i in range(1,11000):\n",
    "        stars = [(x+dx, y+dy, dx, dy) for x, y, dx, dy in stars]\n",
    "        #print(stars[0], stars[10])\n",
    "        star_points = set([(x,y) for x,y,_,_ in stars])\n",
    "        averages.append(average_neighbors(star_points))\n",
    "        if known_time == -1 and averages[-1] > max(averages[:-1]):\n",
    "            print(i, averages[-1])\n",
    "        if i == known_time:\n",
    "            print(f\"The stars after {i} seconds\")\n",
    "            print_2d(points=star_points)\n",
    "    plt.title('Closeness of stars')\n",
    "    plt.plot(averages)\n",
    "\n",
    "speed_up_the_stars(map(lambda l: (int(l[0]),int(l[1]),int(l[2]),int(l[3])),\n",
    "                       [re.findall('-?\\d+', l) for l in Input(10)]), known_time=10036)"
   ]
  },
  {
   "cell_type": "markdown",
   "metadata": {},
   "source": [
    "## Day 11\n",
    "I am travelling through time again, but the watch seems to be lacking power. I guess I have to pick the power-cells that have the most power left in a small radius.\n",
    "\n",
    "Luckily i already have some functions operating on points, now I only have to find the local maximum of 3x3 values in a 300x300 grid. Just iterating through all 3x3 points and finding the max after adding the values should do the trick."
   ]
  },
  {
   "cell_type": "code",
   "execution_count": 23,
   "metadata": {},
   "outputs": [
    {
     "data": {
      "text/plain": [
       "(20, 43)"
      ]
     },
     "execution_count": 23,
     "metadata": {},
     "output_type": "execute_result"
    }
   ],
   "source": [
    "day_11_input = 1309\n",
    "iterable_add = lambda xs,ys: tuple(x + y for x, y in itertools.zip_longest(xs, ys))\n",
    "def calculate_power_level(x, y, grid_serial=day_11_input):\n",
    "    return (((x + 10) * y + grid_serial) * (x+10)) // 100 % 10 - 5\n",
    "assert calculate_power_level(3,5,8) == 4\n",
    "assert calculate_power_level(122, 79,57) == -5\n",
    "assert calculate_power_level(217,196,39) == 0\n",
    "assert calculate_power_level(101,153,71) == 4\n",
    "def find_max_fuel_value(grid_serial=day_11_input):\n",
    "    max_val = (-10**3, (0, 0))\n",
    "    for y in range(2,300-1):\n",
    "        for x in range(2,300-1):\n",
    "            power = 0 #calculate_power_level(dx,ny,grid_serial)\n",
    "            for nx,ny in neighbors((x,y),diagonals=True, include_self=True):\n",
    "                power += calculate_power_level(nx,ny,grid_serial)\n",
    "            max_val = max((power,(x,y)), max_val)\n",
    "    #print(max_val)\n",
    "    #print_2d(32,44,6,5,f=lambda i,j: f\"{calculate_power_level(i,j,grid_serial):4d}\")\n",
    "    return iterable_add(max_val[1],(-1,-1)) # get the top left corner of the 3x3\n",
    "assert find_max_fuel_value(18) == (33,45)\n",
    "assert find_max_fuel_value(42) == (21,61)\n",
    "find_max_fuel_value()"
   ]
  },
  {
   "cell_type": "markdown",
   "metadata": {},
   "source": [
    "I discover a dial at the side of the watch, which makes the selection grid adjustable from a small `1x1` to the whole `300x300`. After the maximization of the value of the grid, its grid size will be part of the result."
   ]
  },
  {
   "cell_type": "code",
   "execution_count": null,
   "metadata": {},
   "outputs": [],
   "source": []
  }
 ],
 "metadata": {
  "kernelspec": {
   "display_name": "Python 3",
   "language": "python",
   "name": "python3"
  },
  "language_info": {
   "codemirror_mode": {
    "name": "ipython",
    "version": 3
   },
   "file_extension": ".py",
   "mimetype": "text/x-python",
   "name": "python",
   "nbconvert_exporter": "python",
   "pygments_lexer": "ipython3",
   "version": "3.7.1"
  }
 },
 "nbformat": 4,
 "nbformat_minor": 2
}
